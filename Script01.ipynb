{
  "nbformat": 4,
  "nbformat_minor": 0,
  "metadata": {
    "colab": {
      "name": "Demo0.ipynb",
      "provenance": [],
      "include_colab_link": true
    },
    "kernelspec": {
      "name": "python3",
      "display_name": "Python 3"
    }
  },
  "cells": [
    {
      "cell_type": "markdown",
      "metadata": {
        "id": "view-in-github",
        "colab_type": "text"
      },
      "source": [
        "<a href=\"https://colab.research.google.com/github/Yichun-Yuan/final-proj-S2021/blob/master/Script01.ipynb\" target=\"_parent\"><img src=\"https://colab.research.google.com/assets/colab-badge.svg\" alt=\"Open In Colab\"/></a>"
      ]
    },
    {
      "cell_type": "code",
      "metadata": {
        "id": "_-fRugzUd4wv",
        "colab": {
          "base_uri": "https://localhost:8080/"
        },
        "outputId": "b0f70cbb-574d-4734-e38e-b3526d7135d8"
      },
      "source": [
        "'''\n",
        "Don't forget the comment block!\n",
        "'''\n",
        "\n",
        "# import required libraries\n",
        "import requests\n",
        "from bs4 import BeautifulSoup\n",
        "\n",
        "# Create an empty list to store response\n",
        "forecast = []\n",
        "\n",
        "## Provide the latitude and longitude for the location you would like to check the forecast for\n",
        "## Lat/lon in decimal degrees provided for Worcester, MA\n",
        "lat = input('Please input latitude for the location you would like to check:')\n",
        "print(' ')\n",
        "lon = input('Please input longitude for the location you would like to check:')\n",
        "\n",
        "# Create url for the requested location through string concatenation\n",
        "url = 'https://forecast.weather.gov/MapClick.php?lat='+lat+\"&lon=\"+lon\n",
        "# Check if the URL exists\n",
        "# print url\n",
        "\n",
        "# Send request to retrieve the web-page using the get() function from the requests library\n",
        "# The page variable stores the response from the web-page\n",
        "page = requests.get(url)\n",
        "\n",
        "# Create a BeautifulSoup object with the response from the URL\n",
        "# Access contents of the web-page using .content\n",
        "# html_parser is used since our page is in HTML format\n",
        "soup=BeautifulSoup(page.content,\"html.parser\")\n",
        "\n",
        "# Locate elements on page to be scraped\n",
        "# findAll() locates all occurrences of div tag with the given class name\n",
        "# stores it in the BeautifulSoup object\n",
        "weather_forecast = soup.findAll(\"li\", {\"class\": \"forecast-tombstone\"})\n",
        "\n",
        "\n",
        "# Loop through the BeautifulSoup object to extract text text from every class instance using .text\n",
        "# Store results in a list\n",
        "for i in weather_forecast:\n",
        "    i = i.text\n",
        "    forecast.append(i)\n",
        "\n",
        "# Print list to remove unicode characters\n",
        "for day in forecast:\n",
        "    day = day.replace('\\n\\n','\\n')\n",
        "    day = day.replace('Low',' Low')\n",
        "    day = day.replace('High',' High')\n",
        "    day = day.replace('Night',' Night')\n",
        "    print(day)\n"
      ],
      "execution_count": 1,
      "outputs": [
        {
          "output_type": "stream",
          "text": [
            "Please input latitude for the location you would like to check:42.2634\n",
            " \n",
            "Please input longitude for the location you would like to check:-71.8022\n",
            "\n",
            "Today\n",
            "Sunny High: 58 °F\n",
            "\n",
            "Tonight\n",
            "Mostly Clear Low: 37 °F\n",
            "\n",
            "Monday\n",
            "Sunny High: 56 °F\n",
            "\n",
            "Monday Night\n",
            "Mostly Clear Low: 38 °F\n",
            "\n",
            "Tuesday\n",
            "Mostly Sunny High: 61 °F\n",
            "\n",
            "Tuesday Night\n",
            "Mostly Clear Low: 39 °F\n",
            "\n",
            "Wednesday\n",
            "Mostly Sunny High: 62 °F\n",
            "\n",
            "Wednesday Night\n",
            "Mostly Cloudy Low: 43 °F\n",
            "\n",
            "Thursday\n",
            "Partly Sunny High: 61 °F\n"
          ],
          "name": "stdout"
        }
      ]
    }
  ]
}